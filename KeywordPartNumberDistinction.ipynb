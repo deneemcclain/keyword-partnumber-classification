{
 "cells": [
  {
   "cell_type": "markdown",
   "id": "0faf89ec",
   "metadata": {},
   "source": [
    "# Introduction"
   ]
  },
  {
   "cell_type": "markdown",
   "id": "da3ead36",
   "metadata": {},
   "source": [
    "This project seeks to build a binary classification model that can determine if a given search term is a part number or a keyword.\n",
    "\n",
    "The following steps will be taken:\n",
    "- Load the search term data\n",
    "- Perform Exploratory Data Analysis (EDA) on the search term data\n",
    "- Build the classification model\n",
    "- Analyze the results\n",
    "- Draw conclusions / plan future steps"
   ]
  },
  {
   "cell_type": "markdown",
   "id": "b2923889",
   "metadata": {},
   "source": [
    "# Load Data"
   ]
  },
  {
   "cell_type": "code",
   "execution_count": 36,
   "id": "583fa296",
   "metadata": {},
   "outputs": [],
   "source": [
    "# Uncomment and run the following lines to install the necessary packages on your machine if not already installed.\n",
    "#!pip install -U scikit-learn\n",
    "#!pip install -U pandas\n",
    "#!pip install -U seaborn"
   ]
  },
  {
   "cell_type": "code",
   "execution_count": 1,
   "id": "24d0f6dd",
   "metadata": {},
   "outputs": [],
   "source": [
    "# Load necessary packages\n",
    "import sklearn\n",
    "import pandas as pd\n",
    "import matplotlib.pyplot as plt\n",
    "import seaborn as sns"
   ]
  },
  {
   "cell_type": "code",
   "execution_count": 43,
   "id": "90799602",
   "metadata": {},
   "outputs": [
    {
     "data": {
      "text/html": [
       "<div>\n",
       "<style scoped>\n",
       "    .dataframe tbody tr th:only-of-type {\n",
       "        vertical-align: middle;\n",
       "    }\n",
       "\n",
       "    .dataframe tbody tr th {\n",
       "        vertical-align: top;\n",
       "    }\n",
       "\n",
       "    .dataframe thead th {\n",
       "        text-align: right;\n",
       "    }\n",
       "</style>\n",
       "<table border=\"1\" class=\"dataframe\">\n",
       "  <thead>\n",
       "    <tr style=\"text-align: right;\">\n",
       "      <th></th>\n",
       "      <th>term</th>\n",
       "      <th>length</th>\n",
       "      <th>letterCount</th>\n",
       "      <th>numberCount</th>\n",
       "      <th>spaceCount</th>\n",
       "      <th>startsWithNumber</th>\n",
       "      <th>endsWithNumber</th>\n",
       "      <th>isPartNumber</th>\n",
       "    </tr>\n",
       "  </thead>\n",
       "  <tbody>\n",
       "    <tr>\n",
       "      <th>0</th>\n",
       "      <td>ladc300113</td>\n",
       "      <td>10</td>\n",
       "      <td>4</td>\n",
       "      <td>6</td>\n",
       "      <td>0</td>\n",
       "      <td>0</td>\n",
       "      <td>1</td>\n",
       "      <td>1</td>\n",
       "    </tr>\n",
       "    <tr>\n",
       "      <th>1</th>\n",
       "      <td>2166563</td>\n",
       "      <td>7</td>\n",
       "      <td>0</td>\n",
       "      <td>7</td>\n",
       "      <td>0</td>\n",
       "      <td>1</td>\n",
       "      <td>1</td>\n",
       "      <td>1</td>\n",
       "    </tr>\n",
       "    <tr>\n",
       "      <th>2</th>\n",
       "      <td>gt2516dp2.2v</td>\n",
       "      <td>12</td>\n",
       "      <td>5</td>\n",
       "      <td>6</td>\n",
       "      <td>0</td>\n",
       "      <td>0</td>\n",
       "      <td>0</td>\n",
       "      <td>1</td>\n",
       "    </tr>\n",
       "    <tr>\n",
       "      <th>3</th>\n",
       "      <td>ipb017n08n5atma1</td>\n",
       "      <td>16</td>\n",
       "      <td>9</td>\n",
       "      <td>7</td>\n",
       "      <td>0</td>\n",
       "      <td>0</td>\n",
       "      <td>1</td>\n",
       "      <td>1</td>\n",
       "    </tr>\n",
       "    <tr>\n",
       "      <th>4</th>\n",
       "      <td>ipb019n08n3gatma1</td>\n",
       "      <td>17</td>\n",
       "      <td>10</td>\n",
       "      <td>7</td>\n",
       "      <td>0</td>\n",
       "      <td>0</td>\n",
       "      <td>1</td>\n",
       "      <td>1</td>\n",
       "    </tr>\n",
       "  </tbody>\n",
       "</table>\n",
       "</div>"
      ],
      "text/plain": [
       "                term  length  letterCount  numberCount  spaceCount  \\\n",
       "0         ladc300113      10            4            6           0   \n",
       "1            2166563       7            0            7           0   \n",
       "2       gt2516dp2.2v      12            5            6           0   \n",
       "3   ipb017n08n5atma1      16            9            7           0   \n",
       "4  ipb019n08n3gatma1      17           10            7           0   \n",
       "\n",
       "   startsWithNumber  endsWithNumber  isPartNumber  \n",
       "0                 0               1             1  \n",
       "1                 1               1             1  \n",
       "2                 0               0             1  \n",
       "3                 0               1             1  \n",
       "4                 0               1             1  "
      ]
     },
     "execution_count": 43,
     "metadata": {},
     "output_type": "execute_result"
    }
   ],
   "source": [
    "terms = pd.read_csv(\"search_terms.csv\", dtype={'term': str})\n",
    "terms.head() # display first five rows"
   ]
  },
  {
   "cell_type": "markdown",
   "id": "f69cd37e",
   "metadata": {},
   "source": [
    "# Exploratory Data Analysis"
   ]
  },
  {
   "cell_type": "code",
   "execution_count": 6,
   "id": "fd25bb90",
   "metadata": {},
   "outputs": [
    {
     "data": {
      "text/html": [
       "<div>\n",
       "<style scoped>\n",
       "    .dataframe tbody tr th:only-of-type {\n",
       "        vertical-align: middle;\n",
       "    }\n",
       "\n",
       "    .dataframe tbody tr th {\n",
       "        vertical-align: top;\n",
       "    }\n",
       "\n",
       "    .dataframe thead th {\n",
       "        text-align: right;\n",
       "    }\n",
       "</style>\n",
       "<table border=\"1\" class=\"dataframe\">\n",
       "  <thead>\n",
       "    <tr style=\"text-align: right;\">\n",
       "      <th></th>\n",
       "      <th>length</th>\n",
       "      <th>letterCount</th>\n",
       "      <th>numberCount</th>\n",
       "      <th>spaceCount</th>\n",
       "      <th>startsWithNumber</th>\n",
       "      <th>endsWithNumber</th>\n",
       "      <th>isPartNumber</th>\n",
       "    </tr>\n",
       "  </thead>\n",
       "  <tbody>\n",
       "    <tr>\n",
       "      <th>count</th>\n",
       "      <td>14357.000000</td>\n",
       "      <td>14357.000000</td>\n",
       "      <td>14357.000000</td>\n",
       "      <td>14357.000000</td>\n",
       "      <td>14357.000000</td>\n",
       "      <td>14357.000000</td>\n",
       "      <td>14357.000000</td>\n",
       "    </tr>\n",
       "    <tr>\n",
       "      <th>mean</th>\n",
       "      <td>11.719440</td>\n",
       "      <td>5.228460</td>\n",
       "      <td>6.215505</td>\n",
       "      <td>0.184440</td>\n",
       "      <td>0.382322</td>\n",
       "      <td>0.459915</td>\n",
       "      <td>0.896148</td>\n",
       "    </tr>\n",
       "    <tr>\n",
       "      <th>std</th>\n",
       "      <td>10.767037</td>\n",
       "      <td>6.445415</td>\n",
       "      <td>5.517540</td>\n",
       "      <td>0.867496</td>\n",
       "      <td>0.485972</td>\n",
       "      <td>0.498408</td>\n",
       "      <td>0.305079</td>\n",
       "    </tr>\n",
       "    <tr>\n",
       "      <th>min</th>\n",
       "      <td>3.000000</td>\n",
       "      <td>0.000000</td>\n",
       "      <td>0.000000</td>\n",
       "      <td>0.000000</td>\n",
       "      <td>0.000000</td>\n",
       "      <td>0.000000</td>\n",
       "      <td>0.000000</td>\n",
       "    </tr>\n",
       "    <tr>\n",
       "      <th>25%</th>\n",
       "      <td>8.000000</td>\n",
       "      <td>1.000000</td>\n",
       "      <td>4.000000</td>\n",
       "      <td>0.000000</td>\n",
       "      <td>0.000000</td>\n",
       "      <td>0.000000</td>\n",
       "      <td>1.000000</td>\n",
       "    </tr>\n",
       "    <tr>\n",
       "      <th>50%</th>\n",
       "      <td>10.000000</td>\n",
       "      <td>5.000000</td>\n",
       "      <td>6.000000</td>\n",
       "      <td>0.000000</td>\n",
       "      <td>0.000000</td>\n",
       "      <td>0.000000</td>\n",
       "      <td>1.000000</td>\n",
       "    </tr>\n",
       "    <tr>\n",
       "      <th>75%</th>\n",
       "      <td>14.000000</td>\n",
       "      <td>8.000000</td>\n",
       "      <td>8.000000</td>\n",
       "      <td>0.000000</td>\n",
       "      <td>1.000000</td>\n",
       "      <td>1.000000</td>\n",
       "      <td>1.000000</td>\n",
       "    </tr>\n",
       "    <tr>\n",
       "      <th>max</th>\n",
       "      <td>475.000000</td>\n",
       "      <td>166.000000</td>\n",
       "      <td>353.000000</td>\n",
       "      <td>40.000000</td>\n",
       "      <td>1.000000</td>\n",
       "      <td>1.000000</td>\n",
       "      <td>1.000000</td>\n",
       "    </tr>\n",
       "  </tbody>\n",
       "</table>\n",
       "</div>"
      ],
      "text/plain": [
       "             length   letterCount   numberCount    spaceCount  \\\n",
       "count  14357.000000  14357.000000  14357.000000  14357.000000   \n",
       "mean      11.719440      5.228460      6.215505      0.184440   \n",
       "std       10.767037      6.445415      5.517540      0.867496   \n",
       "min        3.000000      0.000000      0.000000      0.000000   \n",
       "25%        8.000000      1.000000      4.000000      0.000000   \n",
       "50%       10.000000      5.000000      6.000000      0.000000   \n",
       "75%       14.000000      8.000000      8.000000      0.000000   \n",
       "max      475.000000    166.000000    353.000000     40.000000   \n",
       "\n",
       "       startsWithNumber  endsWithNumber  isPartNumber  \n",
       "count      14357.000000    14357.000000  14357.000000  \n",
       "mean           0.382322        0.459915      0.896148  \n",
       "std            0.485972        0.498408      0.305079  \n",
       "min            0.000000        0.000000      0.000000  \n",
       "25%            0.000000        0.000000      1.000000  \n",
       "50%            0.000000        0.000000      1.000000  \n",
       "75%            1.000000        1.000000      1.000000  \n",
       "max            1.000000        1.000000      1.000000  "
      ]
     },
     "execution_count": 6,
     "metadata": {},
     "output_type": "execute_result"
    }
   ],
   "source": [
    "terms.describe()\n",
    "# 14,357 rows, the three bool columns have only 1s and 0s in them"
   ]
  },
  {
   "cell_type": "code",
   "execution_count": 9,
   "id": "df5cd89b",
   "metadata": {},
   "outputs": [
    {
     "data": {
      "text/plain": [
       "array([[<AxesSubplot:title={'center':'length'}>,\n",
       "        <AxesSubplot:title={'center':'letterCount'}>,\n",
       "        <AxesSubplot:title={'center':'numberCount'}>],\n",
       "       [<AxesSubplot:title={'center':'spaceCount'}>,\n",
       "        <AxesSubplot:title={'center':'startsWithNumber'}>,\n",
       "        <AxesSubplot:title={'center':'endsWithNumber'}>],\n",
       "       [<AxesSubplot:title={'center':'isPartNumber'}>, <AxesSubplot:>,\n",
       "        <AxesSubplot:>]], dtype=object)"
      ]
     },
     "execution_count": 9,
     "metadata": {},
     "output_type": "execute_result"
    },
    {
     "data": {
      "image/png": "[encoded data removed]",
      "text/plain": [
       "<Figure size 864x576 with 9 Axes>"
      ]
     },
     "metadata": {
      "needs_background": "light"
     },
     "output_type": "display_data"
    }
   ],
   "source": [
    "terms.hist(figsize=(12,8))"
   ]
  },
  {
   "cell_type": "markdown",
   "id": "5355a7e9",
   "metadata": {},
   "source": [
    "Above we can see that the length, number count, letter count, and space count are all right-skewed. Also of interest is that there are far more part number search terms in the dataset than keyword search terms. We may need to employ a method like oversampling or undersampling to ensure the best performance of our model."
   ]
  },
  {
   "cell_type": "code",
   "execution_count": 15,
   "id": "b11a4e5f",
   "metadata": {},
   "outputs": [
    {
     "data": {
      "image/png": "[encoded data removed]",
      "text/plain": [
       "<Figure size 864x576 with 1 Axes>"
      ]
     },
     "metadata": {
      "needs_background": "light"
     },
     "output_type": "display_data"
    }
   ],
   "source": [
    "fig, ax = plt.subplots(figsize=(12,8))\n",
    "\n",
    "sns.stripplot(x='isPartNumber', y='length', data=terms)\n",
    "sns.despine()"
   ]
  },
  {
   "cell_type": "markdown",
   "id": "42beca06",
   "metadata": {},
   "source": [
    "Aside from the fact that there is more isPartNumber=1 data, the distributions for the length of the search term look similar. Most keyword lengths are much less than 100 characters long. There are more outliers longer than 100 characters that are part numbers, however, which feels a little strange. Let's take a closer look at those values."
   ]
  },
  {
   "cell_type": "code",
   "execution_count": 26,
   "id": "763f8aaa",
   "metadata": {},
   "outputs": [
    {
     "data": {
      "text/html": [
       "<div>\n",
       "<style scoped>\n",
       "    .dataframe tbody tr th:only-of-type {\n",
       "        vertical-align: middle;\n",
       "    }\n",
       "\n",
       "    .dataframe tbody tr th {\n",
       "        vertical-align: top;\n",
       "    }\n",
       "\n",
       "    .dataframe thead th {\n",
       "        text-align: right;\n",
       "    }\n",
       "</style>\n",
       "<table border=\"1\" class=\"dataframe\">\n",
       "  <thead>\n",
       "    <tr style=\"text-align: right;\">\n",
       "      <th></th>\n",
       "      <th>term</th>\n",
       "      <th>length</th>\n",
       "      <th>isPartNumber</th>\n",
       "    </tr>\n",
       "  </thead>\n",
       "  <tbody>\n",
       "    <tr>\n",
       "      <th>288</th>\n",
       "      <td>ipoe17195w industrial singleport multigigabit ...</td>\n",
       "      <td>66</td>\n",
       "      <td>0</td>\n",
       "    </tr>\n",
       "    <tr>\n",
       "      <th>368</th>\n",
       "      <td>745ttc838 solder tip 838soldering irons cartri...</td>\n",
       "      <td>79</td>\n",
       "      <td>0</td>\n",
       "    </tr>\n",
       "    <tr>\n",
       "      <th>359</th>\n",
       "      <td>processor i910900e 10th gen. processor ram 16g...</td>\n",
       "      <td>246</td>\n",
       "      <td>0</td>\n",
       "    </tr>\n",
       "    <tr>\n",
       "      <th>377</th>\n",
       "      <td>ethernet jack panelmount amphenol pn rcp5spffh...</td>\n",
       "      <td>53</td>\n",
       "      <td>0</td>\n",
       "    </tr>\n",
       "    <tr>\n",
       "      <th>408</th>\n",
       "      <td>1513 emre altunta megasan elektronik a.. 65756...</td>\n",
       "      <td>61</td>\n",
       "      <td>0</td>\n",
       "    </tr>\n",
       "  </tbody>\n",
       "</table>\n",
       "</div>"
      ],
      "text/plain": [
       "                                                  term  length  isPartNumber\n",
       "288  ipoe17195w industrial singleport multigigabit ...      66             0\n",
       "368  745ttc838 solder tip 838soldering irons cartri...      79             0\n",
       "359  processor i910900e 10th gen. processor ram 16g...     246             0\n",
       "377  ethernet jack panelmount amphenol pn rcp5spffh...      53             0\n",
       "408  1513 emre altunta megasan elektronik a.. 65756...      61             0"
      ]
     },
     "execution_count": 26,
     "metadata": {},
     "output_type": "execute_result"
    }
   ],
   "source": [
    "# long keyword terms\n",
    "terms.loc[(terms['length'] > 50) & (terms['isPartNumber'] == 0), ['term', 'length', 'isPartNumber']].sample(5)"
   ]
  },
  {
   "cell_type": "markdown",
   "id": "7e49656b",
   "metadata": {},
   "source": [
    "The long keyword search terms are not as surprising, since there are a lot of keywords you can include to describe a search for an electronic component. Will it yield a search with non-zero results? Maybe not, but it is still a legitimate search. Notice that some of the terms in the sample include part numbers, but since they also include non-part number words, they've been tagged as keyword searches, since you won't find this search term in a part number field on a result."
   ]
  },
  {
   "cell_type": "code",
   "execution_count": 27,
   "id": "f1087964",
   "metadata": {},
   "outputs": [
    {
     "data": {
      "text/html": [
       "<div>\n",
       "<style scoped>\n",
       "    .dataframe tbody tr th:only-of-type {\n",
       "        vertical-align: middle;\n",
       "    }\n",
       "\n",
       "    .dataframe tbody tr th {\n",
       "        vertical-align: top;\n",
       "    }\n",
       "\n",
       "    .dataframe thead th {\n",
       "        text-align: right;\n",
       "    }\n",
       "</style>\n",
       "<table border=\"1\" class=\"dataframe\">\n",
       "  <thead>\n",
       "    <tr style=\"text-align: right;\">\n",
       "      <th></th>\n",
       "      <th>term</th>\n",
       "      <th>length</th>\n",
       "      <th>isPartNumber</th>\n",
       "    </tr>\n",
       "  </thead>\n",
       "  <tbody>\n",
       "    <tr>\n",
       "      <th>3432</th>\n",
       "      <td>ADG411BRUZ SN65LVDS93ADGGR STW9N150 ADS7953SBR...</td>\n",
       "      <td>101</td>\n",
       "      <td>1</td>\n",
       "    </tr>\n",
       "    <tr>\n",
       "      <th>3751</th>\n",
       "      <td>AD8251ARMZR7 ADUM6402CRWZRL EP4CGX22CF19C8N LM...</td>\n",
       "      <td>144</td>\n",
       "      <td>1</td>\n",
       "    </tr>\n",
       "    <tr>\n",
       "      <th>4009</th>\n",
       "      <td>LMP91000SDENOPB MC9S12XET256MAG FSA1156P6X NCV...</td>\n",
       "      <td>70</td>\n",
       "      <td>1</td>\n",
       "    </tr>\n",
       "    <tr>\n",
       "      <th>3379</th>\n",
       "      <td>RCS040247K5FKED RCT0C RDER72J104K4K1H03B RE65G...</td>\n",
       "      <td>67</td>\n",
       "      <td>1</td>\n",
       "    </tr>\n",
       "    <tr>\n",
       "      <th>3919</th>\n",
       "      <td>LCMXO3L1300C5BG256C STM32F407VGT7 LMZ31707RVQR...</td>\n",
       "      <td>129</td>\n",
       "      <td>1</td>\n",
       "    </tr>\n",
       "  </tbody>\n",
       "</table>\n",
       "</div>"
      ],
      "text/plain": [
       "                                                   term  length  isPartNumber\n",
       "3432  ADG411BRUZ SN65LVDS93ADGGR STW9N150 ADS7953SBR...     101             1\n",
       "3751  AD8251ARMZR7 ADUM6402CRWZRL EP4CGX22CF19C8N LM...     144             1\n",
       "4009  LMP91000SDENOPB MC9S12XET256MAG FSA1156P6X NCV...      70             1\n",
       "3379  RCS040247K5FKED RCT0C RDER72J104K4K1H03B RE65G...      67             1\n",
       "3919  LCMXO3L1300C5BG256C STM32F407VGT7 LMZ31707RVQR...     129             1"
      ]
     },
     "execution_count": 27,
     "metadata": {},
     "output_type": "execute_result"
    }
   ],
   "source": [
    "# long part number terms\n",
    "terms.loc[(terms['length'] > 50) & (terms['isPartNumber'] == 1), ['term', 'length', 'isPartNumber']].sample(5)"
   ]
  },
  {
   "cell_type": "markdown",
   "id": "b28bc475",
   "metadata": {},
   "source": [
    "So it looks like these long part number search terms are strings of multiple part numbers searched at once. That explains why they're so long, yet are legitimate search terms."
   ]
  },
  {
   "cell_type": "code",
   "execution_count": 28,
   "id": "a31dc0bb",
   "metadata": {},
   "outputs": [
    {
     "data": {
      "image/png": "[encoded data removed]",
      "text/plain": [
       "<Figure size 864x576 with 1 Axes>"
      ]
     },
     "metadata": {
      "needs_background": "light"
     },
     "output_type": "display_data"
    }
   ],
   "source": [
    "fig, ax = plt.subplots(figsize=(12,8))\n",
    "\n",
    "sns.stripplot(x='isPartNumber', y='letterCount', data=terms)\n",
    "sns.despine()"
   ]
  },
  {
   "cell_type": "markdown",
   "id": "5ce59b44",
   "metadata": {},
   "source": [
    "Interestingly enough, the part number search terms seem to be more likely to have a high count of letters. Still, most search terms in general have less than 25 letters in them."
   ]
  },
  {
   "cell_type": "code",
   "execution_count": 29,
   "id": "19666397",
   "metadata": {},
   "outputs": [
    {
     "data": {
      "image/png": "[encoded data removed]",
      "text/plain": [
       "<Figure size 864x576 with 1 Axes>"
      ]
     },
     "metadata": {
      "needs_background": "light"
     },
     "output_type": "display_data"
    }
   ],
   "source": [
    "fig, ax = plt.subplots(figsize=(12,8))\n",
    "\n",
    "sns.stripplot(x='isPartNumber', y='numberCount', data=terms)\n",
    "sns.despine()"
   ]
  },
  {
   "cell_type": "markdown",
   "id": "4bce52af",
   "metadata": {},
   "source": [
    "Unsurprisingly, the part number search terms have more terms with high counts of digits."
   ]
  },
  {
   "cell_type": "code",
   "execution_count": 35,
   "id": "87d7e33f",
   "metadata": {},
   "outputs": [
    {
     "data": {
      "image/png": "[encoded data removed]",
      "text/plain": [
       "<Figure size 864x576 with 1 Axes>"
      ]
     },
     "metadata": {
      "needs_background": "light"
     },
     "output_type": "display_data"
    }
   ],
   "source": [
    "fig, ax = plt.subplots(figsize=(12,8))\n",
    "\n",
    "sns.stripplot(x='isPartNumber', y='spaceCount', data=terms)\n",
    "sns.despine()"
   ]
  },
  {
   "cell_type": "markdown",
   "id": "53f0e5b4",
   "metadata": {},
   "source": [
    "There seem to be more spaces in part number search terms."
   ]
  },
  {
   "cell_type": "code",
   "execution_count": 37,
   "id": "81bbc8aa",
   "metadata": {},
   "outputs": [
    {
     "data": {
      "text/html": [
       "<div>\n",
       "<style scoped>\n",
       "    .dataframe tbody tr th:only-of-type {\n",
       "        vertical-align: middle;\n",
       "    }\n",
       "\n",
       "    .dataframe tbody tr th {\n",
       "        vertical-align: top;\n",
       "    }\n",
       "\n",
       "    .dataframe thead th {\n",
       "        text-align: right;\n",
       "    }\n",
       "</style>\n",
       "<table border=\"1\" class=\"dataframe\">\n",
       "  <thead>\n",
       "    <tr style=\"text-align: right;\">\n",
       "      <th>isPartNumber</th>\n",
       "      <th>0</th>\n",
       "      <th>1</th>\n",
       "    </tr>\n",
       "    <tr>\n",
       "      <th>startsWithNumber</th>\n",
       "      <th></th>\n",
       "      <th></th>\n",
       "    </tr>\n",
       "  </thead>\n",
       "  <tbody>\n",
       "    <tr>\n",
       "      <th>0</th>\n",
       "      <td>717</td>\n",
       "      <td>8151</td>\n",
       "    </tr>\n",
       "    <tr>\n",
       "      <th>1</th>\n",
       "      <td>774</td>\n",
       "      <td>4715</td>\n",
       "    </tr>\n",
       "  </tbody>\n",
       "</table>\n",
       "</div>"
      ],
      "text/plain": [
       "isPartNumber        0     1\n",
       "startsWithNumber           \n",
       "0                 717  8151\n",
       "1                 774  4715"
      ]
     },
     "execution_count": 37,
     "metadata": {},
     "output_type": "execute_result"
    }
   ],
   "source": [
    "pd.crosstab(terms['startsWithNumber'], terms['isPartNumber'])"
   ]
  },
  {
   "cell_type": "markdown",
   "id": "e422092e",
   "metadata": {},
   "source": [
    "Since it can be tough to see on a graph, this table gives us a better idea of how startsWithNumber relates to isPartNumber. Here we can see that a part number is more likely NOT to start with a number, which I admit feels counterintuitive, whereas for a keyword term the chances seem more 50-50."
   ]
  },
  {
   "cell_type": "code",
   "execution_count": 38,
   "id": "5e885c16",
   "metadata": {},
   "outputs": [
    {
     "data": {
      "text/html": [
       "<div>\n",
       "<style scoped>\n",
       "    .dataframe tbody tr th:only-of-type {\n",
       "        vertical-align: middle;\n",
       "    }\n",
       "\n",
       "    .dataframe tbody tr th {\n",
       "        vertical-align: top;\n",
       "    }\n",
       "\n",
       "    .dataframe thead th {\n",
       "        text-align: right;\n",
       "    }\n",
       "</style>\n",
       "<table border=\"1\" class=\"dataframe\">\n",
       "  <thead>\n",
       "    <tr style=\"text-align: right;\">\n",
       "      <th>isPartNumber</th>\n",
       "      <th>0</th>\n",
       "      <th>1</th>\n",
       "    </tr>\n",
       "    <tr>\n",
       "      <th>endsWithNumber</th>\n",
       "      <th></th>\n",
       "      <th></th>\n",
       "    </tr>\n",
       "  </thead>\n",
       "  <tbody>\n",
       "    <tr>\n",
       "      <th>0</th>\n",
       "      <td>1367</td>\n",
       "      <td>6387</td>\n",
       "    </tr>\n",
       "    <tr>\n",
       "      <th>1</th>\n",
       "      <td>124</td>\n",
       "      <td>6479</td>\n",
       "    </tr>\n",
       "  </tbody>\n",
       "</table>\n",
       "</div>"
      ],
      "text/plain": [
       "isPartNumber       0     1\n",
       "endsWithNumber            \n",
       "0               1367  6387\n",
       "1                124  6479"
      ]
     },
     "execution_count": 38,
     "metadata": {},
     "output_type": "execute_result"
    }
   ],
   "source": [
    "pd.crosstab(terms['endsWithNumber'], terms['isPartNumber'])"
   ]
  },
  {
   "cell_type": "markdown",
   "id": "826cdb46",
   "metadata": {},
   "source": [
    "On the other hand, a keyword term is more likely not to end with a number, while for a part number the chances of ending with a part number are more 50-50."
   ]
  },
  {
   "cell_type": "code",
   "execution_count": 10,
   "id": "2b23b6fe",
   "metadata": {},
   "outputs": [
    {
     "data": {
      "text/html": [
       "<div>\n",
       "<style scoped>\n",
       "    .dataframe tbody tr th:only-of-type {\n",
       "        vertical-align: middle;\n",
       "    }\n",
       "\n",
       "    .dataframe tbody tr th {\n",
       "        vertical-align: top;\n",
       "    }\n",
       "\n",
       "    .dataframe thead th {\n",
       "        text-align: right;\n",
       "    }\n",
       "</style>\n",
       "<table border=\"1\" class=\"dataframe\">\n",
       "  <thead>\n",
       "    <tr style=\"text-align: right;\">\n",
       "      <th></th>\n",
       "      <th>length</th>\n",
       "      <th>letterCount</th>\n",
       "      <th>numberCount</th>\n",
       "      <th>spaceCount</th>\n",
       "      <th>startsWithNumber</th>\n",
       "      <th>endsWithNumber</th>\n",
       "      <th>isPartNumber</th>\n",
       "    </tr>\n",
       "  </thead>\n",
       "  <tbody>\n",
       "    <tr>\n",
       "      <th>length</th>\n",
       "      <td>1.000000</td>\n",
       "      <td>0.871047</td>\n",
       "      <td>0.806896</td>\n",
       "      <td>0.790340</td>\n",
       "      <td>-0.128852</td>\n",
       "      <td>-0.131055</td>\n",
       "      <td>0.003598</td>\n",
       "    </tr>\n",
       "    <tr>\n",
       "      <th>letterCount</th>\n",
       "      <td>0.871047</td>\n",
       "      <td>1.000000</td>\n",
       "      <td>0.419127</td>\n",
       "      <td>0.705746</td>\n",
       "      <td>-0.424244</td>\n",
       "      <td>-0.382618</td>\n",
       "      <td>-0.130411</td>\n",
       "    </tr>\n",
       "    <tr>\n",
       "      <th>numberCount</th>\n",
       "      <td>0.806896</td>\n",
       "      <td>0.419127</td>\n",
       "      <td>1.000000</td>\n",
       "      <td>0.548931</td>\n",
       "      <td>0.223623</td>\n",
       "      <td>0.212874</td>\n",
       "      <td>0.232289</td>\n",
       "    </tr>\n",
       "    <tr>\n",
       "      <th>spaceCount</th>\n",
       "      <td>0.790340</td>\n",
       "      <td>0.705746</td>\n",
       "      <td>0.548931</td>\n",
       "      <td>1.000000</td>\n",
       "      <td>0.052644</td>\n",
       "      <td>-0.094224</td>\n",
       "      <td>-0.349531</td>\n",
       "    </tr>\n",
       "    <tr>\n",
       "      <th>startsWithNumber</th>\n",
       "      <td>-0.128852</td>\n",
       "      <td>-0.424244</td>\n",
       "      <td>0.223623</td>\n",
       "      <td>0.052644</td>\n",
       "      <td>1.000000</td>\n",
       "      <td>0.402199</td>\n",
       "      <td>-0.095826</td>\n",
       "    </tr>\n",
       "    <tr>\n",
       "      <th>endsWithNumber</th>\n",
       "      <td>-0.131055</td>\n",
       "      <td>-0.382618</td>\n",
       "      <td>0.212874</td>\n",
       "      <td>-0.094224</td>\n",
       "      <td>0.402199</td>\n",
       "      <td>1.000000</td>\n",
       "      <td>0.257336</td>\n",
       "    </tr>\n",
       "    <tr>\n",
       "      <th>isPartNumber</th>\n",
       "      <td>0.003598</td>\n",
       "      <td>-0.130411</td>\n",
       "      <td>0.232289</td>\n",
       "      <td>-0.349531</td>\n",
       "      <td>-0.095826</td>\n",
       "      <td>0.257336</td>\n",
       "      <td>1.000000</td>\n",
       "    </tr>\n",
       "  </tbody>\n",
       "</table>\n",
       "</div>"
      ],
      "text/plain": [
       "                    length  letterCount  numberCount  spaceCount  \\\n",
       "length            1.000000     0.871047     0.806896    0.790340   \n",
       "letterCount       0.871047     1.000000     0.419127    0.705746   \n",
       "numberCount       0.806896     0.419127     1.000000    0.548931   \n",
       "spaceCount        0.790340     0.705746     0.548931    1.000000   \n",
       "startsWithNumber -0.128852    -0.424244     0.223623    0.052644   \n",
       "endsWithNumber   -0.131055    -0.382618     0.212874   -0.094224   \n",
       "isPartNumber      0.003598    -0.130411     0.232289   -0.349531   \n",
       "\n",
       "                  startsWithNumber  endsWithNumber  isPartNumber  \n",
       "length                   -0.128852       -0.131055      0.003598  \n",
       "letterCount              -0.424244       -0.382618     -0.130411  \n",
       "numberCount               0.223623        0.212874      0.232289  \n",
       "spaceCount                0.052644       -0.094224     -0.349531  \n",
       "startsWithNumber          1.000000        0.402199     -0.095826  \n",
       "endsWithNumber            0.402199        1.000000      0.257336  \n",
       "isPartNumber             -0.095826        0.257336      1.000000  "
      ]
     },
     "execution_count": 10,
     "metadata": {},
     "output_type": "execute_result"
    }
   ],
   "source": [
    "terms.corr() #correlation matrix for our columns"
   ]
  },
  {
   "cell_type": "markdown",
   "id": "27030c8e",
   "metadata": {},
   "source": [
    "Our target variable, isPartNumber, seems to be most strongly correlated with two variables:\n",
    "- spaceCount - negatively, which means as one increases, the other decreases, aka the higher the space count, the less likely the term is to be a part number, which does make intuitive sense\n",
    "- endsWithNumber - positively, which means that as one increases, the other increases, aka if a term ends with a digit, it's more likely to be a part number search"
   ]
  },
  {
   "cell_type": "markdown",
   "id": "87ad377e",
   "metadata": {},
   "source": [
    "# Model Data"
   ]
  },
  {
   "cell_type": "code",
   "execution_count": 3,
   "id": "f2664c77",
   "metadata": {},
   "outputs": [],
   "source": [
    "from sklearn.model_selection import train_test_split\n",
    "from sklearn.metrics import accuracy_score, precision_score, recall_score, classification_report, \\\n",
    "confusion_matrix, ConfusionMatrixDisplay"
   ]
  },
  {
   "cell_type": "markdown",
   "id": "0646b8d2",
   "metadata": {},
   "source": [
    "## Create training and test datasets"
   ]
  },
  {
   "cell_type": "code",
   "execution_count": 4,
   "id": "918b4554",
   "metadata": {},
   "outputs": [],
   "source": [
    "feature_columns = ['length', 'letterCount', 'numberCount', 'spaceCount', 'startsWithNumber', 'endsWithNumber']\n",
    "X = terms[feature_columns]\n",
    "y = terms['isPartNumber']\n",
    "X_train, X_test, y_train, y_test = train_test_split(X, y, test_size=0.2)"
   ]
  },
  {
   "cell_type": "code",
   "execution_count": 15,
   "id": "d4383740",
   "metadata": {},
   "outputs": [
    {
     "name": "stdout",
     "output_type": "stream",
     "text": [
      "(14357, 6)\n",
      "(14357,)\n"
     ]
    }
   ],
   "source": [
    "print(X.shape)\n",
    "print(y.shape)"
   ]
  },
  {
   "cell_type": "code",
   "execution_count": 16,
   "id": "d252bc6f",
   "metadata": {},
   "outputs": [
    {
     "name": "stdout",
     "output_type": "stream",
     "text": [
      "(11485, 6)\n",
      "(11485,)\n"
     ]
    }
   ],
   "source": [
    "print(X_train.shape)\n",
    "print(y_train.shape)"
   ]
  },
  {
   "cell_type": "code",
   "execution_count": 17,
   "id": "2683b20a",
   "metadata": {},
   "outputs": [
    {
     "name": "stdout",
     "output_type": "stream",
     "text": [
      "(2872, 6)\n",
      "(2872,)\n"
     ]
    }
   ],
   "source": [
    "print(X_test.shape)\n",
    "print(y_test.shape)"
   ]
  },
  {
   "cell_type": "markdown",
   "id": "7fed6632",
   "metadata": {},
   "source": [
    "## Linear SVC"
   ]
  },
  {
   "cell_type": "code",
   "execution_count": 5,
   "id": "2ee24e8c",
   "metadata": {},
   "outputs": [],
   "source": [
    "from sklearn.svm import LinearSVC"
   ]
  },
  {
   "cell_type": "markdown",
   "id": "cc437587",
   "metadata": {},
   "source": [
    "### Initial model"
   ]
  },
  {
   "cell_type": "code",
   "execution_count": 6,
   "id": "e1e5bd19",
   "metadata": {},
   "outputs": [
    {
     "data": {
      "text/plain": [
       "LinearSVC(dual=False)"
      ]
     },
     "execution_count": 6,
     "metadata": {},
     "output_type": "execute_result"
    }
   ],
   "source": [
    "# set dual=False (selecting optimization) because recommended when n_samples > n_features\n",
    "model_lsvc = LinearSVC(penalty='l2', dual=False)\n",
    "model_lsvc.fit(X_train, y_train) # train model"
   ]
  },
  {
   "cell_type": "code",
   "execution_count": 7,
   "id": "f55aa6c0",
   "metadata": {},
   "outputs": [],
   "source": [
    "y_pred_lsvc = model_lsvc.predict(X_test)"
   ]
  },
  {
   "cell_type": "code",
   "execution_count": 8,
   "id": "d2648def",
   "metadata": {},
   "outputs": [
    {
     "name": "stdout",
     "output_type": "stream",
     "text": [
      "Accuracy:  0.9697075208913649\n",
      "Precision:  0.9749240121580547\n",
      "Recall:  0.9918824893699265\n"
     ]
    }
   ],
   "source": [
    "print(\"Accuracy: \", accuracy_score(y_test, y_pred_lsvc))\n",
    "print(\"Precision: \", precision_score(y_test, y_pred_lsvc))\n",
    "print(\"Recall: \", recall_score(y_test, y_pred_lsvc))"
   ]
  },
  {
   "cell_type": "markdown",
   "id": "9343d10e",
   "metadata": {},
   "source": [
    "These are really great scores. Our model is right in general 96% of the time. When the model predicts that a term is a part number, it is right 97% of the time. When a term is a part number, the model predicts the correct label 99% of the time."
   ]
  },
  {
   "cell_type": "code",
   "execution_count": 9,
   "id": "963599c9",
   "metadata": {},
   "outputs": [
    {
     "data": {
      "image/png": "[encoded data removed]",
      "text/plain": [
       "<Figure size 432x288 with 2 Axes>"
      ]
     },
     "metadata": {
      "needs_background": "light"
     },
     "output_type": "display_data"
    }
   ],
   "source": [
    "cf_matrix = confusion_matrix(y_test, y_pred_lsvc, labels=model_lsvc.classes_)\n",
    "display = ConfusionMatrixDisplay(cf_matrix, display_labels=model_lsvc.classes_)\n",
    "display.plot()\n",
    "plt.show()"
   ]
  },
  {
   "cell_type": "markdown",
   "id": "f84238ba",
   "metadata": {},
   "source": [
    "Here we can see that the model is significantly stronger at predicting part number search terms. They do make up the most of the dataset. But the model did also correctly predict a majority of the keyword search terms."
   ]
  },
  {
   "cell_type": "code",
   "execution_count": 10,
   "id": "d2251370",
   "metadata": {},
   "outputs": [
    {
     "name": "stdout",
     "output_type": "stream",
     "text": [
      "              precision    recall  f1-score   support\n",
      "\n",
      "           0       0.91      0.77      0.83       285\n",
      "           1       0.97      0.99      0.98      2587\n",
      "\n",
      "    accuracy                           0.97      2872\n",
      "   macro avg       0.94      0.88      0.91      2872\n",
      "weighted avg       0.97      0.97      0.97      2872\n",
      "\n"
     ]
    }
   ],
   "source": [
    "print(classification_report(y_test, y_pred_lsvc))"
   ]
  },
  {
   "cell_type": "markdown",
   "id": "50314839",
   "metadata": {},
   "source": [
    "This report gives us a clearer view of how the model did on the \"negative\" class, the non-part number search terms. When the model predicted a term was a non-part number search, it was right 91% of the time. When a term actually was a keyword search, the model predicted the correct label only 77% of the time. This lower score may not be a big problem, but given that it's more helpful to distinguish non-part number searches, we do want that score to be a little higher."
   ]
  },
  {
   "cell_type": "markdown",
   "id": "054bad67",
   "metadata": {},
   "source": [
    "### Model tuning"
   ]
  },
  {
   "cell_type": "markdown",
   "id": "5d37af53",
   "metadata": {},
   "source": [
    "We can try to tune this model by addressing the class imbalance."
   ]
  },
  {
   "cell_type": "code",
   "execution_count": 11,
   "id": "add2cf7a",
   "metadata": {},
   "outputs": [
    {
     "data": {
      "text/plain": [
       "LinearSVC(class_weight='balanced', dual=False)"
      ]
     },
     "execution_count": 11,
     "metadata": {},
     "output_type": "execute_result"
    }
   ],
   "source": [
    "# class_weight='balanced' will adjust regularization weights based off of class frequencies\n",
    "lsvc_2 = LinearSVC(penalty='l2', dual=False, class_weight='balanced')\n",
    "lsvc_2.fit(X_train, y_train)"
   ]
  },
  {
   "cell_type": "code",
   "execution_count": 12,
   "id": "398eaf32",
   "metadata": {},
   "outputs": [],
   "source": [
    "y_pred_lsvc_2 = lsvc_2.predict(X_test)"
   ]
  },
  {
   "cell_type": "code",
   "execution_count": 13,
   "id": "2fa90662",
   "metadata": {},
   "outputs": [
    {
     "name": "stdout",
     "output_type": "stream",
     "text": [
      "Accuracy:  0.9592618384401114\n",
      "Precision:  0.9991915925626516\n",
      "Recall:  0.9555469655972169\n"
     ]
    }
   ],
   "source": [
    "print(\"Accuracy: \", accuracy_score(y_test, y_pred_lsvc_2))\n",
    "print(\"Precision: \", precision_score(y_test, y_pred_lsvc_2))\n",
    "print(\"Recall: \", recall_score(y_test, y_pred_lsvc_2))"
   ]
  },
  {
   "cell_type": "markdown",
   "id": "b5b2cc5f",
   "metadata": {},
   "source": [
    "High scores again. Higher precision this time (more correct predictions when it predicts part number) and lower recall (slightly fewer correct guesses when the term actually is a part number), but still high overall."
   ]
  },
  {
   "cell_type": "code",
   "execution_count": 14,
   "id": "98b42225",
   "metadata": {},
   "outputs": [
    {
     "data": {
      "image/png": "[encoded data removed]",
      "text/plain": [
       "<Figure size 432x288 with 2 Axes>"
      ]
     },
     "metadata": {
      "needs_background": "light"
     },
     "output_type": "display_data"
    }
   ],
   "source": [
    "cf_matrix_2 = confusion_matrix(y_test, y_pred_lsvc_2, labels=lsvc_2.classes_)\n",
    "display_2 = ConfusionMatrixDisplay(cf_matrix_2, display_labels=lsvc_2.classes_)\n",
    "display_2.plot()\n",
    "plt.show()"
   ]
  },
  {
   "cell_type": "markdown",
   "id": "f77ecb73",
   "metadata": {},
   "source": [
    "Fewer incorrect predictions on the keyword class! More incorrect predictions on the part number class, but only slightly, which is what the recall score told us."
   ]
  },
  {
   "cell_type": "code",
   "execution_count": 15,
   "id": "da59f35b",
   "metadata": {},
   "outputs": [
    {
     "name": "stdout",
     "output_type": "stream",
     "text": [
      "              precision    recall  f1-score   support\n",
      "\n",
      "           0       0.71      0.99      0.83       285\n",
      "           1       1.00      0.96      0.98      2587\n",
      "\n",
      "    accuracy                           0.96      2872\n",
      "   macro avg       0.86      0.97      0.90      2872\n",
      "weighted avg       0.97      0.96      0.96      2872\n",
      "\n"
     ]
    }
   ],
   "source": [
    "print(classification_report(y_test, y_pred_lsvc_2))"
   ]
  },
  {
   "cell_type": "markdown",
   "id": "43d719cd",
   "metadata": {},
   "source": [
    "Here we can see a tradeoff between precision and recall on the negative (keyword) class. This model predicts a keyword search to be a keyword search 99% of the time, but when it predicts keyword search, it is only correct 71% of the time."
   ]
  },
  {
   "cell_type": "markdown",
   "id": "46379974",
   "metadata": {},
   "source": [
    "Although we know that there is a natural tradeoff between precision and recall, such that it is difficult to get both to be high, let's try another model to see if we can achieve a better balance between the two."
   ]
  },
  {
   "cell_type": "markdown",
   "id": "df08b168",
   "metadata": {},
   "source": [
    "## Radius Nearest Neighbors"
   ]
  },
  {
   "cell_type": "markdown",
   "id": "80f5469e",
   "metadata": {},
   "source": [
    "Since our data has some skew in that there are much more part number terms than non-part number terms, we will use radius nearest neighbors in an attempt to offset that by looking at fewer neighbors when classifying each point."
   ]
  },
  {
   "cell_type": "code",
   "execution_count": 37,
   "id": "c1a43545",
   "metadata": {},
   "outputs": [],
   "source": [
    "from sklearn.neighbors import RadiusNeighborsClassifier"
   ]
  },
  {
   "cell_type": "markdown",
   "id": "52044996",
   "metadata": {},
   "source": [
    "### Initial model"
   ]
  },
  {
   "cell_type": "code",
   "execution_count": 54,
   "id": "3a012573",
   "metadata": {},
   "outputs": [
    {
     "data": {
      "text/plain": [
       "RadiusNeighborsClassifier(outlier_label='most_frequent', radius=3.0)"
      ]
     },
     "execution_count": 54,
     "metadata": {},
     "output_type": "execute_result"
    }
   ],
   "source": [
    "# starting with a radius of 3, and labelling outliers with the most frequent label of y, which will be 1 for part number search\n",
    "rnn = RadiusNeighborsClassifier(radius=3.0, outlier_label='most_frequent')\n",
    "rnn.fit(X_train, y_train)"
   ]
  },
  {
   "cell_type": "code",
   "execution_count": 55,
   "id": "1926e5de",
   "metadata": {},
   "outputs": [],
   "source": [
    "y_pred_rnn = rnn.predict(X_test)"
   ]
  },
  {
   "cell_type": "code",
   "execution_count": 56,
   "id": "6022e590",
   "metadata": {},
   "outputs": [
    {
     "name": "stdout",
     "output_type": "stream",
     "text": [
      "Accuracy:  0.9341922005571031\n",
      "Precision:  0.938484071768583\n",
      "Recall:  0.9918730650154799\n"
     ]
    }
   ],
   "source": [
    "print(\"Accuracy: \", accuracy_score(y_test, y_pred_rnn))\n",
    "print(\"Precision: \", precision_score(y_test, y_pred_rnn))\n",
    "print(\"Recall: \", recall_score(y_test, y_pred_rnn))"
   ]
  },
  {
   "cell_type": "markdown",
   "id": "b7bdf516",
   "metadata": {},
   "source": [
    "Again, high scores, especially on recall. Accuracy is lower than on our linear SVC model, and so is precision when predicting a label of part number."
   ]
  },
  {
   "cell_type": "code",
   "execution_count": 57,
   "id": "1d97e8df",
   "metadata": {},
   "outputs": [
    {
     "data": {
      "image/png": "[encoded data removed]",
      "text/plain": [
       "<Figure size 432x288 with 2 Axes>"
      ]
     },
     "metadata": {
      "needs_background": "light"
     },
     "output_type": "display_data"
    }
   ],
   "source": [
    "cm_rnn = confusion_matrix(y_test, y_pred_rnn, labels=rnn.classes_)\n",
    "display = ConfusionMatrixDisplay(cm_rnn, display_labels=rnn.classes_)\n",
    "display.plot()\n",
    "plt.show()"
   ]
  },
  {
   "cell_type": "markdown",
   "id": "44d27586",
   "metadata": {},
   "source": [
    "Here we can see a lot more incorrectly predicted keyword search terms, perhaps thanks in part to those outliers."
   ]
  },
  {
   "cell_type": "code",
   "execution_count": 58,
   "id": "69bb3821",
   "metadata": {},
   "outputs": [
    {
     "name": "stdout",
     "output_type": "stream",
     "text": [
      "              precision    recall  f1-score   support\n",
      "\n",
      "           0       0.85      0.42      0.56       288\n",
      "           1       0.94      0.99      0.96      2584\n",
      "\n",
      "    accuracy                           0.93      2872\n",
      "   macro avg       0.89      0.70      0.76      2872\n",
      "weighted avg       0.93      0.93      0.92      2872\n",
      "\n"
     ]
    }
   ],
   "source": [
    "print(classification_report(y_test, y_pred_rnn))"
   ]
  },
  {
   "cell_type": "markdown",
   "id": "cb37a0fa",
   "metadata": {},
   "source": [
    "Here we can see very low recall on the keyword search class, and much lower precision than the linear SVC model. "
   ]
  },
  {
   "cell_type": "markdown",
   "id": "5a9d9b82",
   "metadata": {},
   "source": [
    "### Model tuning"
   ]
  },
  {
   "cell_type": "code",
   "execution_count": 59,
   "id": "c606a3a3",
   "metadata": {},
   "outputs": [
    {
     "ename": "ValueError",
     "evalue": "No neighbors found for test samples array([ 71, 181, 878], dtype=int64), you can try using larger radius, giving a label for outliers, or considering removing them from your dataset.",
     "output_type": "error",
     "traceback": [
      "\u001b[1;31m---------------------------------------------------------------------------\u001b[0m",
      "\u001b[1;31mValueError\u001b[0m                                Traceback (most recent call last)",
      "\u001b[1;32mC:\\Users\\DENEE~1.MCC\\AppData\\Local\\Temp/ipykernel_11968/2117822655.py\u001b[0m in \u001b[0;36m<module>\u001b[1;34m\u001b[0m\n\u001b[0;32m      1\u001b[0m \u001b[0mrnn_trial\u001b[0m \u001b[1;33m=\u001b[0m \u001b[0mRadiusNeighborsClassifier\u001b[0m\u001b[1;33m(\u001b[0m\u001b[0mradius\u001b[0m\u001b[1;33m=\u001b[0m\u001b[1;36m10.0\u001b[0m\u001b[1;33m)\u001b[0m\u001b[1;33m\u001b[0m\u001b[1;33m\u001b[0m\u001b[0m\n\u001b[0;32m      2\u001b[0m \u001b[0mrnn_trial\u001b[0m\u001b[1;33m.\u001b[0m\u001b[0mfit\u001b[0m\u001b[1;33m(\u001b[0m\u001b[0mX_train\u001b[0m\u001b[1;33m,\u001b[0m \u001b[0my_train\u001b[0m\u001b[1;33m)\u001b[0m\u001b[1;33m\u001b[0m\u001b[1;33m\u001b[0m\u001b[0m\n\u001b[1;32m----> 3\u001b[1;33m \u001b[0my_pred_rnn_trial\u001b[0m \u001b[1;33m=\u001b[0m \u001b[0mrnn_trial\u001b[0m\u001b[1;33m.\u001b[0m\u001b[0mpredict\u001b[0m\u001b[1;33m(\u001b[0m\u001b[0mX_test\u001b[0m\u001b[1;33m)\u001b[0m\u001b[1;33m\u001b[0m\u001b[1;33m\u001b[0m\u001b[0m\n\u001b[0m",
      "\u001b[1;32m~\\Anaconda3\\lib\\site-packages\\sklearn\\neighbors\\_classification.py\u001b[0m in \u001b[0;36mpredict\u001b[1;34m(self, X)\u001b[0m\n\u001b[0;32m    502\u001b[0m         \"\"\"\n\u001b[0;32m    503\u001b[0m \u001b[1;33m\u001b[0m\u001b[0m\n\u001b[1;32m--> 504\u001b[1;33m         \u001b[0mprobs\u001b[0m \u001b[1;33m=\u001b[0m \u001b[0mself\u001b[0m\u001b[1;33m.\u001b[0m\u001b[0mpredict_proba\u001b[0m\u001b[1;33m(\u001b[0m\u001b[0mX\u001b[0m\u001b[1;33m)\u001b[0m\u001b[1;33m\u001b[0m\u001b[1;33m\u001b[0m\u001b[0m\n\u001b[0m\u001b[0;32m    505\u001b[0m         \u001b[0mclasses_\u001b[0m \u001b[1;33m=\u001b[0m \u001b[0mself\u001b[0m\u001b[1;33m.\u001b[0m\u001b[0mclasses_\u001b[0m\u001b[1;33m\u001b[0m\u001b[1;33m\u001b[0m\u001b[0m\n\u001b[0;32m    506\u001b[0m \u001b[1;33m\u001b[0m\u001b[0m\n",
      "\u001b[1;32m~\\Anaconda3\\lib\\site-packages\\sklearn\\neighbors\\_classification.py\u001b[0m in \u001b[0;36mpredict_proba\u001b[1;34m(self, X)\u001b[0m\n\u001b[0;32m    562\u001b[0m \u001b[1;33m\u001b[0m\u001b[0m\n\u001b[0;32m    563\u001b[0m         \u001b[1;32mif\u001b[0m \u001b[0mself\u001b[0m\u001b[1;33m.\u001b[0m\u001b[0moutlier_label_\u001b[0m \u001b[1;32mis\u001b[0m \u001b[1;32mNone\u001b[0m \u001b[1;32mand\u001b[0m \u001b[0moutliers\u001b[0m\u001b[1;33m.\u001b[0m\u001b[0msize\u001b[0m \u001b[1;33m>\u001b[0m \u001b[1;36m0\u001b[0m\u001b[1;33m:\u001b[0m\u001b[1;33m\u001b[0m\u001b[1;33m\u001b[0m\u001b[0m\n\u001b[1;32m--> 564\u001b[1;33m             raise ValueError('No neighbors found for test samples %r, '\n\u001b[0m\u001b[0;32m    565\u001b[0m                              \u001b[1;34m'you can try using larger radius, '\u001b[0m\u001b[1;33m\u001b[0m\u001b[1;33m\u001b[0m\u001b[0m\n\u001b[0;32m    566\u001b[0m                              \u001b[1;34m'giving a label for outliers, '\u001b[0m\u001b[1;33m\u001b[0m\u001b[1;33m\u001b[0m\u001b[0m\n",
      "\u001b[1;31mValueError\u001b[0m: No neighbors found for test samples array([ 71, 181, 878], dtype=int64), you can try using larger radius, giving a label for outliers, or considering removing them from your dataset."
     ]
    }
   ],
   "source": [
    "rnn_trial = RadiusNeighborsClassifier(radius=10.0)\n",
    "rnn_trial.fit(X_train, y_train)\n",
    "y_pred_rnn_trial = rnn_trial.predict(X_test)"
   ]
  },
  {
   "cell_type": "markdown",
   "id": "b2f9f795",
   "metadata": {},
   "source": [
    "We could try to search for the best radius value, but above we can see that without forcing our outliers to some label, even a large radius leaves a handful of outliers without enough neighbors to assign a label. This may be defeating the purpose of choosing this model so that we can work with less neighbors because of the skew of the dataset."
   ]
  },
  {
   "cell_type": "code",
   "execution_count": 61,
   "id": "734788de",
   "metadata": {},
   "outputs": [
    {
     "name": "stdout",
     "output_type": "stream",
     "text": [
      "              precision    recall  f1-score   support\n",
      "\n",
      "           0       0.82      0.16      0.26       288\n",
      "           1       0.91      1.00      0.95      2584\n",
      "\n",
      "    accuracy                           0.91      2872\n",
      "   macro avg       0.87      0.58      0.61      2872\n",
      "weighted avg       0.90      0.91      0.88      2872\n",
      "\n"
     ]
    }
   ],
   "source": [
    "rnn_5 = RadiusNeighborsClassifier(radius=5.0, outlier_label='most_frequent')\n",
    "rnn_5.fit(X_train, y_train)\n",
    "y_pred_rnn_5 = rnn_5.predict(X_test)\n",
    "print(classification_report(y_test, y_pred_rnn_5))"
   ]
  },
  {
   "cell_type": "code",
   "execution_count": 62,
   "id": "4e0ddca0",
   "metadata": {},
   "outputs": [
    {
     "name": "stdout",
     "output_type": "stream",
     "text": [
      "              precision    recall  f1-score   support\n",
      "\n",
      "           0       0.67      0.03      0.07       288\n",
      "           1       0.90      1.00      0.95      2584\n",
      "\n",
      "    accuracy                           0.90      2872\n",
      "   macro avg       0.78      0.52      0.51      2872\n",
      "weighted avg       0.88      0.90      0.86      2872\n",
      "\n"
     ]
    }
   ],
   "source": [
    "rnn_10 = RadiusNeighborsClassifier(radius=10.0, outlier_label='most_frequent')\n",
    "rnn_10.fit(X_train, y_train)\n",
    "y_pred_rnn_10 = rnn_10.predict(X_test)\n",
    "print(classification_report(y_test, y_pred_rnn_10))"
   ]
  },
  {
   "cell_type": "markdown",
   "id": "67633bf0",
   "metadata": {},
   "source": [
    "And as we can see, our scores seem to weaken as the radius widens, so it looks like this model is not the best one for our data."
   ]
  },
  {
   "cell_type": "markdown",
   "id": "70f87c42",
   "metadata": {},
   "source": [
    "# Analysis"
   ]
  },
  {
   "cell_type": "markdown",
   "id": "d388729b",
   "metadata": {},
   "source": [
    "## Investigating Incorrect Predictions"
   ]
  },
  {
   "cell_type": "markdown",
   "id": "9bcbc474",
   "metadata": {},
   "source": [
    "Let's compare the test dataset with its actual labels and its predicted labels from our two Linear SVC models so we can see the actual terms alongside their predictions."
   ]
  },
  {
   "cell_type": "code",
   "execution_count": 16,
   "id": "149e8bce",
   "metadata": {},
   "outputs": [
    {
     "data": {
      "text/html": [
       "<div>\n",
       "<style scoped>\n",
       "    .dataframe tbody tr th:only-of-type {\n",
       "        vertical-align: middle;\n",
       "    }\n",
       "\n",
       "    .dataframe tbody tr th {\n",
       "        vertical-align: top;\n",
       "    }\n",
       "\n",
       "    .dataframe thead th {\n",
       "        text-align: right;\n",
       "    }\n",
       "</style>\n",
       "<table border=\"1\" class=\"dataframe\">\n",
       "  <thead>\n",
       "    <tr style=\"text-align: right;\">\n",
       "      <th></th>\n",
       "      <th>term</th>\n",
       "      <th>length</th>\n",
       "      <th>letterCount</th>\n",
       "      <th>numberCount</th>\n",
       "      <th>spaceCount</th>\n",
       "      <th>startsWithNumber</th>\n",
       "      <th>endsWithNumber</th>\n",
       "      <th>isPartNumber</th>\n",
       "      <th>isPartNumber_pred_lsvc1</th>\n",
       "      <th>isPartNumber_pred_lsvc2</th>\n",
       "    </tr>\n",
       "  </thead>\n",
       "  <tbody>\n",
       "    <tr>\n",
       "      <th>6520</th>\n",
       "      <td>adm631531d2artzr7</td>\n",
       "      <td>17</td>\n",
       "      <td>9</td>\n",
       "      <td>8</td>\n",
       "      <td>0</td>\n",
       "      <td>0</td>\n",
       "      <td>1</td>\n",
       "      <td>1</td>\n",
       "      <td>1</td>\n",
       "      <td>1</td>\n",
       "    </tr>\n",
       "    <tr>\n",
       "      <th>2672</th>\n",
       "      <td>2000415533</td>\n",
       "      <td>10</td>\n",
       "      <td>0</td>\n",
       "      <td>10</td>\n",
       "      <td>0</td>\n",
       "      <td>1</td>\n",
       "      <td>1</td>\n",
       "      <td>1</td>\n",
       "      <td>1</td>\n",
       "      <td>1</td>\n",
       "    </tr>\n",
       "    <tr>\n",
       "      <th>288</th>\n",
       "      <td>ipoe17195w industrial singleport multigigabit ...</td>\n",
       "      <td>66</td>\n",
       "      <td>50</td>\n",
       "      <td>9</td>\n",
       "      <td>6</td>\n",
       "      <td>0</td>\n",
       "      <td>0</td>\n",
       "      <td>0</td>\n",
       "      <td>0</td>\n",
       "      <td>0</td>\n",
       "    </tr>\n",
       "    <tr>\n",
       "      <th>8296</th>\n",
       "      <td>10M02SCU324C8GNW</td>\n",
       "      <td>16</td>\n",
       "      <td>8</td>\n",
       "      <td>8</td>\n",
       "      <td>0</td>\n",
       "      <td>1</td>\n",
       "      <td>0</td>\n",
       "      <td>1</td>\n",
       "      <td>1</td>\n",
       "      <td>1</td>\n",
       "    </tr>\n",
       "    <tr>\n",
       "      <th>8917</th>\n",
       "      <td>TMS320F240</td>\n",
       "      <td>10</td>\n",
       "      <td>4</td>\n",
       "      <td>6</td>\n",
       "      <td>0</td>\n",
       "      <td>0</td>\n",
       "      <td>1</td>\n",
       "      <td>1</td>\n",
       "      <td>1</td>\n",
       "      <td>1</td>\n",
       "    </tr>\n",
       "  </tbody>\n",
       "</table>\n",
       "</div>"
      ],
      "text/plain": [
       "                                                   term  length  letterCount  \\\n",
       "6520                                  adm631531d2artzr7      17            9   \n",
       "2672                                         2000415533      10            0   \n",
       "288   ipoe17195w industrial singleport multigigabit ...      66           50   \n",
       "8296                                   10M02SCU324C8GNW      16            8   \n",
       "8917                                         TMS320F240      10            4   \n",
       "\n",
       "      numberCount  spaceCount  startsWithNumber  endsWithNumber  isPartNumber  \\\n",
       "6520            8           0                 0               1             1   \n",
       "2672           10           0                 1               1             1   \n",
       "288             9           6                 0               0             0   \n",
       "8296            8           0                 1               0             1   \n",
       "8917            6           0                 0               1             1   \n",
       "\n",
       "      isPartNumber_pred_lsvc1  isPartNumber_pred_lsvc2  \n",
       "6520                        1                        1  \n",
       "2672                        1                        1  \n",
       "288                         0                        0  \n",
       "8296                        1                        1  \n",
       "8917                        1                        1  "
      ]
     },
     "execution_count": 16,
     "metadata": {},
     "output_type": "execute_result"
    }
   ],
   "source": [
    "terms_with_preds = terms.loc[X_test.index.tolist()]\n",
    "terms_with_preds['isPartNumber_pred_lsvc1'] = y_pred_lsvc.tolist()\n",
    "terms_with_preds['isPartNumber_pred_lsvc2'] = y_pred_lsvc_2.tolist()\n",
    "terms_with_preds.head()"
   ]
  },
  {
   "cell_type": "code",
   "execution_count": 17,
   "id": "65deb551",
   "metadata": {},
   "outputs": [],
   "source": [
    "prediction_columns = ['term', 'isPartNumber', 'isPartNumber_pred_lsvc1', 'isPartNumber_pred_lsvc2']\n",
    "wrong_predictions = terms_with_preds[(terms_with_preds.isPartNumber != terms_with_preds.isPartNumber_pred_lsvc1) | (terms_with_preds.isPartNumber != terms_with_preds.isPartNumber_pred_lsvc2)][prediction_columns]"
   ]
  },
  {
   "cell_type": "code",
   "execution_count": 18,
   "id": "cdb0b4b8",
   "metadata": {},
   "outputs": [
    {
     "data": {
      "text/plain": [
       "(181, 4)"
      ]
     },
     "execution_count": 18,
     "metadata": {},
     "output_type": "execute_result"
    }
   ],
   "source": [
    "wrong_predictions.shape"
   ]
  },
  {
   "cell_type": "code",
   "execution_count": 80,
   "id": "b641a04b",
   "metadata": {},
   "outputs": [
    {
     "data": {
      "text/html": [
       "<div>\n",
       "<style scoped>\n",
       "    .dataframe tbody tr th:only-of-type {\n",
       "        vertical-align: middle;\n",
       "    }\n",
       "\n",
       "    .dataframe tbody tr th {\n",
       "        vertical-align: top;\n",
       "    }\n",
       "\n",
       "    .dataframe thead th {\n",
       "        text-align: right;\n",
       "    }\n",
       "</style>\n",
       "<table border=\"1\" class=\"dataframe\">\n",
       "  <thead>\n",
       "    <tr style=\"text-align: right;\">\n",
       "      <th></th>\n",
       "      <th>term</th>\n",
       "      <th>isPartNumber</th>\n",
       "      <th>isPartNumber_pred_lsvc1</th>\n",
       "      <th>isPartNumber_pred_lsvc2</th>\n",
       "    </tr>\n",
       "  </thead>\n",
       "  <tbody>\n",
       "    <tr>\n",
       "      <th>474</th>\n",
       "      <td>0 501 324 622 a</td>\n",
       "      <td>1</td>\n",
       "      <td>0</td>\n",
       "      <td>0</td>\n",
       "    </tr>\n",
       "    <tr>\n",
       "      <th>914</th>\n",
       "      <td>0.9pf 0805</td>\n",
       "      <td>0</td>\n",
       "      <td>1</td>\n",
       "      <td>0</td>\n",
       "    </tr>\n",
       "    <tr>\n",
       "      <th>10007</th>\n",
       "      <td>pesd1can</td>\n",
       "      <td>1</td>\n",
       "      <td>1</td>\n",
       "      <td>0</td>\n",
       "    </tr>\n",
       "    <tr>\n",
       "      <th>12287</th>\n",
       "      <td>pcie</td>\n",
       "      <td>1</td>\n",
       "      <td>1</td>\n",
       "      <td>0</td>\n",
       "    </tr>\n",
       "    <tr>\n",
       "      <th>8501</th>\n",
       "      <td>22UF 10v 0805</td>\n",
       "      <td>0</td>\n",
       "      <td>1</td>\n",
       "      <td>0</td>\n",
       "    </tr>\n",
       "    <tr>\n",
       "      <th>...</th>\n",
       "      <td>...</td>\n",
       "      <td>...</td>\n",
       "      <td>...</td>\n",
       "      <td>...</td>\n",
       "    </tr>\n",
       "    <tr>\n",
       "      <th>7123</th>\n",
       "      <td>nhd5.0hdmin</td>\n",
       "      <td>1</td>\n",
       "      <td>1</td>\n",
       "      <td>0</td>\n",
       "    </tr>\n",
       "    <tr>\n",
       "      <th>883</th>\n",
       "      <td>0.68r</td>\n",
       "      <td>1</td>\n",
       "      <td>0</td>\n",
       "      <td>0</td>\n",
       "    </tr>\n",
       "    <tr>\n",
       "      <th>6664</th>\n",
       "      <td>iis2mdctr</td>\n",
       "      <td>1</td>\n",
       "      <td>1</td>\n",
       "      <td>0</td>\n",
       "    </tr>\n",
       "    <tr>\n",
       "      <th>912</th>\n",
       "      <td>0.9pf 0201</td>\n",
       "      <td>0</td>\n",
       "      <td>1</td>\n",
       "      <td>0</td>\n",
       "    </tr>\n",
       "    <tr>\n",
       "      <th>8680</th>\n",
       "      <td>EECRF</td>\n",
       "      <td>1</td>\n",
       "      <td>1</td>\n",
       "      <td>0</td>\n",
       "    </tr>\n",
       "  </tbody>\n",
       "</table>\n",
       "<p>176 rows × 4 columns</p>\n",
       "</div>"
      ],
      "text/plain": [
       "                  term  isPartNumber  isPartNumber_pred_lsvc1  \\\n",
       "474    0 501 324 622 a             1                        0   \n",
       "914         0.9pf 0805             0                        1   \n",
       "10007         pesd1can             1                        1   \n",
       "12287             pcie             1                        1   \n",
       "8501     22UF 10v 0805             0                        1   \n",
       "...                ...           ...                      ...   \n",
       "7123       nhd5.0hdmin             1                        1   \n",
       "883              0.68r             1                        0   \n",
       "6664         iis2mdctr             1                        1   \n",
       "912         0.9pf 0201             0                        1   \n",
       "8680             EECRF             1                        1   \n",
       "\n",
       "       isPartNumber_pred_lsvc2  \n",
       "474                          0  \n",
       "914                          0  \n",
       "10007                        0  \n",
       "12287                        0  \n",
       "8501                         0  \n",
       "...                        ...  \n",
       "7123                         0  \n",
       "883                          0  \n",
       "6664                         0  \n",
       "912                          0  \n",
       "8680                         0  \n",
       "\n",
       "[176 rows x 4 columns]"
      ]
     },
     "execution_count": 80,
     "metadata": {},
     "output_type": "execute_result"
    }
   ],
   "source": [
    "wrong_predictions"
   ]
  },
  {
   "cell_type": "markdown",
   "id": "b3cbed29",
   "metadata": {},
   "source": [
    "### Base Linear SVC Model"
   ]
  },
  {
   "cell_type": "markdown",
   "id": "959a3faf",
   "metadata": {},
   "source": [
    "#### Part numbers the model thought were keywords"
   ]
  },
  {
   "cell_type": "code",
   "execution_count": 23,
   "id": "314c3557",
   "metadata": {},
   "outputs": [],
   "source": [
    "wrong_partnumbers_lsvc1 = wrong_predictions[(wrong_predictions.isPartNumber == 1) & (wrong_predictions.isPartNumber_pred_lsvc1 == 0)]"
   ]
  },
  {
   "cell_type": "code",
   "execution_count": 25,
   "id": "6eec2eab",
   "metadata": {},
   "outputs": [
    {
     "data": {
      "text/html": [
       "<div>\n",
       "<style scoped>\n",
       "    .dataframe tbody tr th:only-of-type {\n",
       "        vertical-align: middle;\n",
       "    }\n",
       "\n",
       "    .dataframe tbody tr th {\n",
       "        vertical-align: top;\n",
       "    }\n",
       "\n",
       "    .dataframe thead th {\n",
       "        text-align: right;\n",
       "    }\n",
       "</style>\n",
       "<table border=\"1\" class=\"dataframe\">\n",
       "  <thead>\n",
       "    <tr style=\"text-align: right;\">\n",
       "      <th></th>\n",
       "      <th>term</th>\n",
       "      <th>isPartNumber</th>\n",
       "      <th>isPartNumber_pred_lsvc1</th>\n",
       "      <th>isPartNumber_pred_lsvc2</th>\n",
       "    </tr>\n",
       "  </thead>\n",
       "  <tbody>\n",
       "    <tr>\n",
       "      <th>13225</th>\n",
       "      <td>5csx</td>\n",
       "      <td>1</td>\n",
       "      <td>0</td>\n",
       "      <td>0</td>\n",
       "    </tr>\n",
       "    <tr>\n",
       "      <th>5449</th>\n",
       "      <td>bp xxx.</td>\n",
       "      <td>1</td>\n",
       "      <td>0</td>\n",
       "      <td>0</td>\n",
       "    </tr>\n",
       "    <tr>\n",
       "      <th>5614</th>\n",
       "      <td>xbibcgps</td>\n",
       "      <td>1</td>\n",
       "      <td>0</td>\n",
       "      <td>0</td>\n",
       "    </tr>\n",
       "    <tr>\n",
       "      <th>6804</th>\n",
       "      <td>mtfc4gacaana4m it</td>\n",
       "      <td>1</td>\n",
       "      <td>0</td>\n",
       "      <td>0</td>\n",
       "    </tr>\n",
       "    <tr>\n",
       "      <th>13624</th>\n",
       "      <td>5cseba</td>\n",
       "      <td>1</td>\n",
       "      <td>0</td>\n",
       "      <td>0</td>\n",
       "    </tr>\n",
       "    <tr>\n",
       "      <th>6686</th>\n",
       "      <td>cppfxt7bdxxx.xxxxxxpd</td>\n",
       "      <td>1</td>\n",
       "      <td>0</td>\n",
       "      <td>0</td>\n",
       "    </tr>\n",
       "    <tr>\n",
       "      <th>915</th>\n",
       "      <td>00 8263 03 11 00 000</td>\n",
       "      <td>1</td>\n",
       "      <td>0</td>\n",
       "      <td>0</td>\n",
       "    </tr>\n",
       "    <tr>\n",
       "      <th>13249</th>\n",
       "      <td>jst xh</td>\n",
       "      <td>1</td>\n",
       "      <td>0</td>\n",
       "      <td>0</td>\n",
       "    </tr>\n",
       "    <tr>\n",
       "      <th>5512</th>\n",
       "      <td>xbibcmmt</td>\n",
       "      <td>1</td>\n",
       "      <td>0</td>\n",
       "      <td>0</td>\n",
       "    </tr>\n",
       "    <tr>\n",
       "      <th>1246</th>\n",
       "      <td>010 01 25 212 056</td>\n",
       "      <td>1</td>\n",
       "      <td>0</td>\n",
       "      <td>0</td>\n",
       "    </tr>\n",
       "    <tr>\n",
       "      <th>7132</th>\n",
       "      <td>xbibrdev</td>\n",
       "      <td>1</td>\n",
       "      <td>0</td>\n",
       "      <td>0</td>\n",
       "    </tr>\n",
       "    <tr>\n",
       "      <th>11435</th>\n",
       "      <td>hwusbiig</td>\n",
       "      <td>1</td>\n",
       "      <td>0</td>\n",
       "      <td>0</td>\n",
       "    </tr>\n",
       "    <tr>\n",
       "      <th>792</th>\n",
       "      <td>0.2r</td>\n",
       "      <td>1</td>\n",
       "      <td>0</td>\n",
       "      <td>0</td>\n",
       "    </tr>\n",
       "    <tr>\n",
       "      <th>883</th>\n",
       "      <td>0.68r</td>\n",
       "      <td>1</td>\n",
       "      <td>0</td>\n",
       "      <td>0</td>\n",
       "    </tr>\n",
       "    <tr>\n",
       "      <th>6769</th>\n",
       "      <td>xbeempsmt</td>\n",
       "      <td>1</td>\n",
       "      <td>0</td>\n",
       "      <td>0</td>\n",
       "    </tr>\n",
       "    <tr>\n",
       "      <th>686</th>\n",
       "      <td>0.1r</td>\n",
       "      <td>1</td>\n",
       "      <td>0</td>\n",
       "      <td>0</td>\n",
       "    </tr>\n",
       "    <tr>\n",
       "      <th>2207</th>\n",
       "      <td>0402 0r</td>\n",
       "      <td>1</td>\n",
       "      <td>0</td>\n",
       "      <td>0</td>\n",
       "    </tr>\n",
       "    <tr>\n",
       "      <th>1258</th>\n",
       "      <td>01005 1 uf</td>\n",
       "      <td>1</td>\n",
       "      <td>0</td>\n",
       "      <td>0</td>\n",
       "    </tr>\n",
       "    <tr>\n",
       "      <th>5364</th>\n",
       "      <td>xbibcuth</td>\n",
       "      <td>1</td>\n",
       "      <td>0</td>\n",
       "      <td>0</td>\n",
       "    </tr>\n",
       "    <tr>\n",
       "      <th>1489</th>\n",
       "      <td>02sabf2.2pfhq</td>\n",
       "      <td>1</td>\n",
       "      <td>0</td>\n",
       "      <td>0</td>\n",
       "    </tr>\n",
       "    <tr>\n",
       "      <th>6447</th>\n",
       "      <td>itpspsik</td>\n",
       "      <td>1</td>\n",
       "      <td>0</td>\n",
       "      <td>0</td>\n",
       "    </tr>\n",
       "  </tbody>\n",
       "</table>\n",
       "</div>"
      ],
      "text/plain": [
       "                        term  isPartNumber  isPartNumber_pred_lsvc1  \\\n",
       "13225                   5csx             1                        0   \n",
       "5449                 bp xxx.             1                        0   \n",
       "5614                xbibcgps             1                        0   \n",
       "6804       mtfc4gacaana4m it             1                        0   \n",
       "13624                 5cseba             1                        0   \n",
       "6686   cppfxt7bdxxx.xxxxxxpd             1                        0   \n",
       "915     00 8263 03 11 00 000             1                        0   \n",
       "13249                 jst xh             1                        0   \n",
       "5512                xbibcmmt             1                        0   \n",
       "1246       010 01 25 212 056             1                        0   \n",
       "7132                xbibrdev             1                        0   \n",
       "11435               hwusbiig             1                        0   \n",
       "792                     0.2r             1                        0   \n",
       "883                    0.68r             1                        0   \n",
       "6769               xbeempsmt             1                        0   \n",
       "686                     0.1r             1                        0   \n",
       "2207                 0402 0r             1                        0   \n",
       "1258              01005 1 uf             1                        0   \n",
       "5364                xbibcuth             1                        0   \n",
       "1489           02sabf2.2pfhq             1                        0   \n",
       "6447                itpspsik             1                        0   \n",
       "\n",
       "       isPartNumber_pred_lsvc2  \n",
       "13225                        0  \n",
       "5449                         0  \n",
       "5614                         0  \n",
       "6804                         0  \n",
       "13624                        0  \n",
       "6686                         0  \n",
       "915                          0  \n",
       "13249                        0  \n",
       "5512                         0  \n",
       "1246                         0  \n",
       "7132                         0  \n",
       "11435                        0  \n",
       "792                          0  \n",
       "883                          0  \n",
       "6769                         0  \n",
       "686                          0  \n",
       "2207                         0  \n",
       "1258                         0  \n",
       "5364                         0  \n",
       "1489                         0  \n",
       "6447                         0  "
      ]
     },
     "execution_count": 25,
     "metadata": {},
     "output_type": "execute_result"
    }
   ],
   "source": [
    "wrong_partnumbers_lsvc1"
   ]
  },
  {
   "cell_type": "markdown",
   "id": "68944863",
   "metadata": {},
   "source": [
    "#### Keywords the model thought were part numbers"
   ]
  },
  {
   "cell_type": "code",
   "execution_count": 26,
   "id": "05b58484",
   "metadata": {},
   "outputs": [],
   "source": [
    "wrong_keywords_lsvc1 = wrong_predictions[(wrong_predictions.isPartNumber == 0) & (wrong_predictions.isPartNumber_pred_lsvc1 == 1)]"
   ]
  },
  {
   "cell_type": "code",
   "execution_count": 27,
   "id": "2419a2a7",
   "metadata": {},
   "outputs": [
    {
     "data": {
      "text/html": [
       "<div>\n",
       "<style scoped>\n",
       "    .dataframe tbody tr th:only-of-type {\n",
       "        vertical-align: middle;\n",
       "    }\n",
       "\n",
       "    .dataframe tbody tr th {\n",
       "        vertical-align: top;\n",
       "    }\n",
       "\n",
       "    .dataframe thead th {\n",
       "        text-align: right;\n",
       "    }\n",
       "</style>\n",
       "<table border=\"1\" class=\"dataframe\">\n",
       "  <thead>\n",
       "    <tr style=\"text-align: right;\">\n",
       "      <th></th>\n",
       "      <th>term</th>\n",
       "      <th>isPartNumber</th>\n",
       "      <th>isPartNumber_pred_lsvc1</th>\n",
       "      <th>isPartNumber_pred_lsvc2</th>\n",
       "    </tr>\n",
       "  </thead>\n",
       "  <tbody>\n",
       "    <tr>\n",
       "      <th>11109</th>\n",
       "      <td>rohs</td>\n",
       "      <td>0</td>\n",
       "      <td>1</td>\n",
       "      <td>0</td>\n",
       "    </tr>\n",
       "    <tr>\n",
       "      <th>9395</th>\n",
       "      <td>ldo</td>\n",
       "      <td>0</td>\n",
       "      <td>1</td>\n",
       "      <td>0</td>\n",
       "    </tr>\n",
       "    <tr>\n",
       "      <th>12259</th>\n",
       "      <td>adapter</td>\n",
       "      <td>0</td>\n",
       "      <td>1</td>\n",
       "      <td>0</td>\n",
       "    </tr>\n",
       "    <tr>\n",
       "      <th>628</th>\n",
       "      <td>0.075uf</td>\n",
       "      <td>0</td>\n",
       "      <td>1</td>\n",
       "      <td>0</td>\n",
       "    </tr>\n",
       "    <tr>\n",
       "      <th>9927</th>\n",
       "      <td>fet</td>\n",
       "      <td>0</td>\n",
       "      <td>1</td>\n",
       "      <td>0</td>\n",
       "    </tr>\n",
       "    <tr>\n",
       "      <th>...</th>\n",
       "      <td>...</td>\n",
       "      <td>...</td>\n",
       "      <td>...</td>\n",
       "      <td>...</td>\n",
       "    </tr>\n",
       "    <tr>\n",
       "      <th>10313</th>\n",
       "      <td>quartz</td>\n",
       "      <td>0</td>\n",
       "      <td>1</td>\n",
       "      <td>0</td>\n",
       "    </tr>\n",
       "    <tr>\n",
       "      <th>2230</th>\n",
       "      <td>0402 10uf</td>\n",
       "      <td>0</td>\n",
       "      <td>1</td>\n",
       "      <td>0</td>\n",
       "    </tr>\n",
       "    <tr>\n",
       "      <th>7888</th>\n",
       "      <td>peltier</td>\n",
       "      <td>0</td>\n",
       "      <td>1</td>\n",
       "      <td>0</td>\n",
       "    </tr>\n",
       "    <tr>\n",
       "      <th>9708</th>\n",
       "      <td>speaker</td>\n",
       "      <td>0</td>\n",
       "      <td>1</td>\n",
       "      <td>0</td>\n",
       "    </tr>\n",
       "    <tr>\n",
       "      <th>13872</th>\n",
       "      <td>ddr</td>\n",
       "      <td>0</td>\n",
       "      <td>1</td>\n",
       "      <td>0</td>\n",
       "    </tr>\n",
       "  </tbody>\n",
       "</table>\n",
       "<p>66 rows × 4 columns</p>\n",
       "</div>"
      ],
      "text/plain": [
       "            term  isPartNumber  isPartNumber_pred_lsvc1  \\\n",
       "11109       rohs             0                        1   \n",
       "9395         ldo             0                        1   \n",
       "12259    adapter             0                        1   \n",
       "628      0.075uf             0                        1   \n",
       "9927         fet             0                        1   \n",
       "...          ...           ...                      ...   \n",
       "10313     quartz             0                        1   \n",
       "2230   0402 10uf             0                        1   \n",
       "7888     peltier             0                        1   \n",
       "9708     speaker             0                        1   \n",
       "13872        ddr             0                        1   \n",
       "\n",
       "       isPartNumber_pred_lsvc2  \n",
       "11109                        0  \n",
       "9395                         0  \n",
       "12259                        0  \n",
       "628                          0  \n",
       "9927                         0  \n",
       "...                        ...  \n",
       "10313                        0  \n",
       "2230                         0  \n",
       "7888                         0  \n",
       "9708                         0  \n",
       "13872                        0  \n",
       "\n",
       "[66 rows x 4 columns]"
      ]
     },
     "execution_count": 27,
     "metadata": {},
     "output_type": "execute_result"
    }
   ],
   "source": [
    "wrong_keywords_lsvc1"
   ]
  },
  {
   "cell_type": "markdown",
   "id": "fe0fe03a",
   "metadata": {},
   "source": [
    "Some of these are surprising. For example, there are terms that are all numbers that were predicted as non-part number searches and terms that are all letters that were predicted as part number searches. All letters = non-part number and all numbers = part number seems like a simple rule to learn, but remember than this model is drawing a plane between the two classes. "
   ]
  },
  {
   "cell_type": "markdown",
   "id": "50bcef16",
   "metadata": {},
   "source": [
    "### Linear SVC Model with class balancing"
   ]
  },
  {
   "cell_type": "markdown",
   "id": "cd6063b5",
   "metadata": {},
   "source": [
    "#### Part numbers the model thought were keywords"
   ]
  },
  {
   "cell_type": "code",
   "execution_count": 28,
   "id": "0d550177",
   "metadata": {},
   "outputs": [],
   "source": [
    "wrong_partnumbers_lsvc2 = wrong_predictions[(wrong_predictions.isPartNumber == 1) & (wrong_predictions.isPartNumber_pred_lsvc2 == 0)]"
   ]
  },
  {
   "cell_type": "code",
   "execution_count": 29,
   "id": "aa5406cd",
   "metadata": {},
   "outputs": [
    {
     "data": {
      "text/html": [
       "<div>\n",
       "<style scoped>\n",
       "    .dataframe tbody tr th:only-of-type {\n",
       "        vertical-align: middle;\n",
       "    }\n",
       "\n",
       "    .dataframe tbody tr th {\n",
       "        vertical-align: top;\n",
       "    }\n",
       "\n",
       "    .dataframe thead th {\n",
       "        text-align: right;\n",
       "    }\n",
       "</style>\n",
       "<table border=\"1\" class=\"dataframe\">\n",
       "  <thead>\n",
       "    <tr style=\"text-align: right;\">\n",
       "      <th></th>\n",
       "      <th>term</th>\n",
       "      <th>isPartNumber</th>\n",
       "      <th>isPartNumber_pred_lsvc1</th>\n",
       "      <th>isPartNumber_pred_lsvc2</th>\n",
       "    </tr>\n",
       "  </thead>\n",
       "  <tbody>\n",
       "    <tr>\n",
       "      <th>13225</th>\n",
       "      <td>5csx</td>\n",
       "      <td>1</td>\n",
       "      <td>0</td>\n",
       "      <td>0</td>\n",
       "    </tr>\n",
       "    <tr>\n",
       "      <th>9655</th>\n",
       "      <td>eeprom</td>\n",
       "      <td>1</td>\n",
       "      <td>1</td>\n",
       "      <td>0</td>\n",
       "    </tr>\n",
       "    <tr>\n",
       "      <th>9451</th>\n",
       "      <td>tvs</td>\n",
       "      <td>1</td>\n",
       "      <td>1</td>\n",
       "      <td>0</td>\n",
       "    </tr>\n",
       "    <tr>\n",
       "      <th>10958</th>\n",
       "      <td>smbj5.0ca</td>\n",
       "      <td>1</td>\n",
       "      <td>1</td>\n",
       "      <td>0</td>\n",
       "    </tr>\n",
       "    <tr>\n",
       "      <th>9727</th>\n",
       "      <td>i2c</td>\n",
       "      <td>1</td>\n",
       "      <td>1</td>\n",
       "      <td>0</td>\n",
       "    </tr>\n",
       "    <tr>\n",
       "      <th>...</th>\n",
       "      <td>...</td>\n",
       "      <td>...</td>\n",
       "      <td>...</td>\n",
       "      <td>...</td>\n",
       "    </tr>\n",
       "    <tr>\n",
       "      <th>6333</th>\n",
       "      <td>nhd7.0ctpcapen</td>\n",
       "      <td>1</td>\n",
       "      <td>1</td>\n",
       "      <td>0</td>\n",
       "    </tr>\n",
       "    <tr>\n",
       "      <th>1489</th>\n",
       "      <td>02sabf2.2pfhq</td>\n",
       "      <td>1</td>\n",
       "      <td>0</td>\n",
       "      <td>0</td>\n",
       "    </tr>\n",
       "    <tr>\n",
       "      <th>6447</th>\n",
       "      <td>itpspsik</td>\n",
       "      <td>1</td>\n",
       "      <td>0</td>\n",
       "      <td>0</td>\n",
       "    </tr>\n",
       "    <tr>\n",
       "      <th>1460</th>\n",
       "      <td>02 02 160 2301</td>\n",
       "      <td>1</td>\n",
       "      <td>1</td>\n",
       "      <td>0</td>\n",
       "    </tr>\n",
       "    <tr>\n",
       "      <th>245</th>\n",
       "      <td>80sxv56m</td>\n",
       "      <td>1</td>\n",
       "      <td>1</td>\n",
       "      <td>0</td>\n",
       "    </tr>\n",
       "  </tbody>\n",
       "</table>\n",
       "<p>115 rows × 4 columns</p>\n",
       "</div>"
      ],
      "text/plain": [
       "                 term  isPartNumber  isPartNumber_pred_lsvc1  \\\n",
       "13225            5csx             1                        0   \n",
       "9655           eeprom             1                        1   \n",
       "9451              tvs             1                        1   \n",
       "10958       smbj5.0ca             1                        1   \n",
       "9727              i2c             1                        1   \n",
       "...               ...           ...                      ...   \n",
       "6333   nhd7.0ctpcapen             1                        1   \n",
       "1489    02sabf2.2pfhq             1                        0   \n",
       "6447         itpspsik             1                        0   \n",
       "1460   02 02 160 2301             1                        1   \n",
       "245          80sxv56m             1                        1   \n",
       "\n",
       "       isPartNumber_pred_lsvc2  \n",
       "13225                        0  \n",
       "9655                         0  \n",
       "9451                         0  \n",
       "10958                        0  \n",
       "9727                         0  \n",
       "...                        ...  \n",
       "6333                         0  \n",
       "1489                         0  \n",
       "6447                         0  \n",
       "1460                         0  \n",
       "245                          0  \n",
       "\n",
       "[115 rows x 4 columns]"
      ]
     },
     "execution_count": 29,
     "metadata": {},
     "output_type": "execute_result"
    }
   ],
   "source": [
    "wrong_partnumbers_lsvc2"
   ]
  },
  {
   "cell_type": "markdown",
   "id": "d17c2869",
   "metadata": {},
   "source": [
    "#### Keywords the model thought were part numbers"
   ]
  },
  {
   "cell_type": "code",
   "execution_count": 30,
   "id": "8d56cc33",
   "metadata": {},
   "outputs": [],
   "source": [
    "wrong_keywords_lsvc2 = wrong_predictions[(wrong_predictions.isPartNumber == 0) & (wrong_predictions.isPartNumber_pred_lsvc2 == 1)]"
   ]
  },
  {
   "cell_type": "code",
   "execution_count": 31,
   "id": "e7978bbd",
   "metadata": {},
   "outputs": [
    {
     "data": {
      "text/html": [
       "<div>\n",
       "<style scoped>\n",
       "    .dataframe tbody tr th:only-of-type {\n",
       "        vertical-align: middle;\n",
       "    }\n",
       "\n",
       "    .dataframe tbody tr th {\n",
       "        vertical-align: top;\n",
       "    }\n",
       "\n",
       "    .dataframe thead th {\n",
       "        text-align: right;\n",
       "    }\n",
       "</style>\n",
       "<table border=\"1\" class=\"dataframe\">\n",
       "  <thead>\n",
       "    <tr style=\"text-align: right;\">\n",
       "      <th></th>\n",
       "      <th>term</th>\n",
       "      <th>isPartNumber</th>\n",
       "      <th>isPartNumber_pred_lsvc1</th>\n",
       "      <th>isPartNumber_pred_lsvc2</th>\n",
       "    </tr>\n",
       "  </thead>\n",
       "  <tbody>\n",
       "    <tr>\n",
       "      <th>402</th>\n",
       "      <td>mouser 279yr1b49r9cc</td>\n",
       "      <td>0</td>\n",
       "      <td>1</td>\n",
       "      <td>1</td>\n",
       "    </tr>\n",
       "    <tr>\n",
       "      <th>604</th>\n",
       "      <td>0.047uf 0805</td>\n",
       "      <td>0</td>\n",
       "      <td>1</td>\n",
       "      <td>1</td>\n",
       "    </tr>\n",
       "  </tbody>\n",
       "</table>\n",
       "</div>"
      ],
      "text/plain": [
       "                     term  isPartNumber  isPartNumber_pred_lsvc1  \\\n",
       "402  mouser 279yr1b49r9cc             0                        1   \n",
       "604          0.047uf 0805             0                        1   \n",
       "\n",
       "     isPartNumber_pred_lsvc2  \n",
       "402                        1  \n",
       "604                        1  "
      ]
     },
     "execution_count": 31,
     "metadata": {},
     "output_type": "execute_result"
    }
   ],
   "source": [
    "wrong_keywords_lsvc2"
   ]
  },
  {
   "cell_type": "markdown",
   "id": "48b06dcc",
   "metadata": {},
   "source": [
    "## Predicting on new data"
   ]
  },
  {
   "cell_type": "code",
   "execution_count": 67,
   "id": "4c3772d4",
   "metadata": {},
   "outputs": [],
   "source": [
    "import numpy as np\n",
    "from generate_keyword_data import generateSearchTermData"
   ]
  },
  {
   "cell_type": "code",
   "execution_count": 77,
   "id": "6db2d97b",
   "metadata": {},
   "outputs": [],
   "source": [
    "# function takes a search term and it's true class, runs it through the model, and compares the prediction to true value\n",
    "def predict_search_term(term, isPartNumber):\n",
    "    p = ''\n",
    "    X = generateSearchTermData(term) # get feature column data for this term\n",
    "    X.pop(0) # remove term from feature column data\n",
    "    X.pop() # remove empty space for isPartNumber\n",
    "    if len(X) == len(feature_columns):\n",
    "        X = np.array(X, dtype=int).reshape(1, -1) # reshape to 2D array\n",
    "        pred_lsvc1 = model_lsvc.predict(X)\n",
    "        p += f'The base model predicted {\"correctly\" if pred_lsvc1[0] == isPartNumber else \"incorrectly\"}! '\n",
    "        pred_lsvc2 = lsvc_2.predict(X)\n",
    "        p += f'The balanced model predicted {\"correctly\" if pred_lsvc2[0] == isPartNumber else \"incorrectly\"}!'\n",
    "        return p\n",
    "    return \"Error: invalid search term data returned\""
   ]
  },
  {
   "cell_type": "code",
   "execution_count": 76,
   "id": "8e1dfebd",
   "metadata": {},
   "outputs": [
    {
     "name": "stdout",
     "output_type": "stream",
     "text": [
      "The base model predicted correctly! The balanced model predicted correctly! \n"
     ]
    }
   ],
   "source": [
    "print(predict_search_term(\"usb 3.0\", 0)) # not a part number search"
   ]
  },
  {
   "cell_type": "code",
   "execution_count": 78,
   "id": "be78eeff",
   "metadata": {},
   "outputs": [
    {
     "name": "stdout",
     "output_type": "stream",
     "text": [
      "The base model predicted correctly! The balanced model predicted correctly!\n"
     ]
    }
   ],
   "source": [
    "print(predict_search_term(\"22UF\", 0)) #not a part number search"
   ]
  },
  {
   "cell_type": "code",
   "execution_count": 79,
   "id": "528a5fee",
   "metadata": {},
   "outputs": [
    {
     "name": "stdout",
     "output_type": "stream",
     "text": [
      "The base model predicted incorrectly! The balanced model predicted correctly!\n"
     ]
    }
   ],
   "source": [
    "print(predict_search_term(\"200mm\", 0)) # not a part number search"
   ]
  },
  {
   "cell_type": "code",
   "execution_count": 80,
   "id": "878903cb",
   "metadata": {},
   "outputs": [
    {
     "name": "stdout",
     "output_type": "stream",
     "text": [
      "The base model predicted correctly! The balanced model predicted correctly!\n"
     ]
    }
   ],
   "source": [
    "print(predict_search_term(\"23uf\", 0)) # not a part number search"
   ]
  },
  {
   "cell_type": "code",
   "execution_count": 81,
   "id": "38b03648",
   "metadata": {},
   "outputs": [
    {
     "name": "stdout",
     "output_type": "stream",
     "text": [
      "The base model predicted incorrectly! The balanced model predicted correctly!\n"
     ]
    }
   ],
   "source": [
    "print(predict_search_term(\"100cm\", 0)) # not a part number search"
   ]
  },
  {
   "cell_type": "code",
   "execution_count": 82,
   "id": "a89dddbc",
   "metadata": {},
   "outputs": [
    {
     "name": "stdout",
     "output_type": "stream",
     "text": [
      "The base model predicted incorrectly! The balanced model predicted correctly!\n"
     ]
    }
   ],
   "source": [
    "print(predict_search_term(\"800v\", 0)) # not a part number search"
   ]
  },
  {
   "cell_type": "code",
   "execution_count": 83,
   "id": "7909c269",
   "metadata": {},
   "outputs": [
    {
     "name": "stdout",
     "output_type": "stream",
     "text": [
      "The base model predicted correctly! The balanced model predicted correctly!\n"
     ]
    }
   ],
   "source": [
    "print(predict_search_term(\"mt10\", 1)) # part number search"
   ]
  },
  {
   "cell_type": "code",
   "execution_count": 84,
   "id": "2ac202e6",
   "metadata": {},
   "outputs": [
    {
     "name": "stdout",
     "output_type": "stream",
     "text": [
      "The base model predicted correctly! The balanced model predicted correctly!\n"
     ]
    }
   ],
   "source": [
    "print(predict_search_term(\"ddr5\", 1)) # part number search"
   ]
  },
  {
   "cell_type": "code",
   "execution_count": 85,
   "id": "473996f8",
   "metadata": {},
   "outputs": [
    {
     "name": "stdout",
     "output_type": "stream",
     "text": [
      "The base model predicted correctly! The balanced model predicted correctly!\n"
     ]
    }
   ],
   "source": [
    "print(predict_search_term(\"ddr3\", 1)) # part number search"
   ]
  },
  {
   "cell_type": "code",
   "execution_count": 86,
   "id": "a7528e91",
   "metadata": {},
   "outputs": [
    {
     "name": "stdout",
     "output_type": "stream",
     "text": [
      "The base model predicted correctly! The balanced model predicted correctly!\n"
     ]
    }
   ],
   "source": [
    "print(predict_search_term(\"q200\", 1)) # part number search"
   ]
  },
  {
   "cell_type": "code",
   "execution_count": 87,
   "id": "0155435f",
   "metadata": {},
   "outputs": [
    {
     "name": "stdout",
     "output_type": "stream",
     "text": [
      "The base model predicted correctly! The balanced model predicted correctly!\n"
     ]
    }
   ],
   "source": [
    "print(predict_search_term(\"700icm7555ipa\", 1)) # part number search"
   ]
  },
  {
   "cell_type": "code",
   "execution_count": 88,
   "id": "8144723c",
   "metadata": {},
   "outputs": [
    {
     "name": "stdout",
     "output_type": "stream",
     "text": [
      "The base model predicted correctly! The balanced model predicted correctly!\n"
     ]
    }
   ],
   "source": [
    "print(predict_search_term(\"2n2222a\", 1)) # part number search"
   ]
  },
  {
   "cell_type": "code",
   "execution_count": 89,
   "id": "e05d253c",
   "metadata": {},
   "outputs": [
    {
     "name": "stdout",
     "output_type": "stream",
     "text": [
      "The base model predicted correctly! The balanced model predicted correctly!\n"
     ]
    }
   ],
   "source": [
    "print(predict_search_term(\"2n2222\", 1)) # part number search"
   ]
  },
  {
   "cell_type": "code",
   "execution_count": 90,
   "id": "ea39a630",
   "metadata": {},
   "outputs": [
    {
     "name": "stdout",
     "output_type": "stream",
     "text": [
      "The base model predicted correctly! The balanced model predicted correctly!\n"
     ]
    }
   ],
   "source": [
    "print(predict_search_term(\"1590b\", 1)) # part number search"
   ]
  },
  {
   "cell_type": "markdown",
   "id": "4729a039",
   "metadata": {},
   "source": [
    "# Conclusion & Save Model"
   ]
  },
  {
   "cell_type": "markdown",
   "id": "0ad1d7f9",
   "metadata": {},
   "source": [
    "I'd like to move forward with the balanced model since it is specifically built to handle imbalanced data, which is what the production search term data looks like. Let's save and export the model."
   ]
  },
  {
   "cell_type": "code",
   "execution_count": 91,
   "id": "885e23bc",
   "metadata": {},
   "outputs": [],
   "source": [
    "# save to pickle\n",
    "import pickle\n",
    "pickle.dump(lsvc_2, open(\"keyword_partnumber_classmodel.pickle\", \"wb\"))"
   ]
  },
  {
   "cell_type": "code",
   "execution_count": 1,
   "id": "5786ebc6",
   "metadata": {},
   "outputs": [],
   "source": [
    "# save vectorizer method to pickle\n",
    "from generate_keyword_data import generateSearchTermData\n",
    "import pickle\n",
    "pickle.dump(generateSearchTermData, open(\"generate-term-data.pickle\", \"wb\"))"
   ]
  },
  {
   "cell_type": "code",
   "execution_count": null,
   "id": "f365f54c",
   "metadata": {},
   "outputs": [],
   "source": []
  }
 ],
 "metadata": {
  "kernelspec": {
   "display_name": "Python 3 (ipykernel)",
   "language": "python",
   "name": "python3"
  },
  "language_info": {
   "codemirror_mode": {
    "name": "ipython",
    "version": 3
   },
   "file_extension": ".py",
   "mimetype": "text/x-python",
   "name": "python",
   "nbconvert_exporter": "python",
   "pygments_lexer": "ipython3",
   "version": "3.9.7"
  }
 },
 "nbformat": 4,
 "nbformat_minor": 5
}
